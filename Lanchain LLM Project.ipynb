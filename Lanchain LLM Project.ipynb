{
  "nbformat": 4,
  "nbformat_minor": 0,
  "metadata": {
    "colab": {
      "provenance": []
    },
    "kernelspec": {
      "name": "python3",
      "display_name": "Python 3"
    },
    "language_info": {
      "name": "python"
    }
  },
  "cells": [
    {
      "cell_type": "code",
      "execution_count": 1,
      "metadata": {
        "colab": {
          "base_uri": "https://localhost:8080/"
        },
        "id": "BlxWsCjPfTxC",
        "outputId": "321c38af-ee5e-48fd-c8b1-4908476caf0a"
      },
      "outputs": [
        {
          "output_type": "stream",
          "name": "stdout",
          "text": [
            "Collecting langchain\n",
            "  Downloading langchain-0.1.13-py3-none-any.whl (810 kB)\n",
            "\u001b[2K     \u001b[90m━━━━━━━━━━━━━━━━━━━━━━━━━━━━━━━━━━━━━━━━\u001b[0m \u001b[32m810.5/810.5 kB\u001b[0m \u001b[31m4.3 MB/s\u001b[0m eta \u001b[36m0:00:00\u001b[0m\n",
            "\u001b[?25hRequirement already satisfied: PyYAML>=5.3 in /usr/local/lib/python3.10/dist-packages (from langchain) (6.0.1)\n",
            "Requirement already satisfied: SQLAlchemy<3,>=1.4 in /usr/local/lib/python3.10/dist-packages (from langchain) (2.0.29)\n",
            "Requirement already satisfied: aiohttp<4.0.0,>=3.8.3 in /usr/local/lib/python3.10/dist-packages (from langchain) (3.9.3)\n",
            "Requirement already satisfied: async-timeout<5.0.0,>=4.0.0 in /usr/local/lib/python3.10/dist-packages (from langchain) (4.0.3)\n",
            "Collecting dataclasses-json<0.7,>=0.5.7 (from langchain)\n",
            "  Downloading dataclasses_json-0.6.4-py3-none-any.whl (28 kB)\n",
            "Collecting jsonpatch<2.0,>=1.33 (from langchain)\n",
            "  Downloading jsonpatch-1.33-py2.py3-none-any.whl (12 kB)\n",
            "Collecting langchain-community<0.1,>=0.0.29 (from langchain)\n",
            "  Downloading langchain_community-0.0.29-py3-none-any.whl (1.8 MB)\n",
            "\u001b[2K     \u001b[90m━━━━━━━━━━━━━━━━━━━━━━━━━━━━━━━━━━━━━━━━\u001b[0m \u001b[32m1.8/1.8 MB\u001b[0m \u001b[31m25.4 MB/s\u001b[0m eta \u001b[36m0:00:00\u001b[0m\n",
            "\u001b[?25hCollecting langchain-core<0.2.0,>=0.1.33 (from langchain)\n",
            "  Downloading langchain_core-0.1.35-py3-none-any.whl (273 kB)\n",
            "\u001b[2K     \u001b[90m━━━━━━━━━━━━━━━━━━━━━━━━━━━━━━━━━━━━━━━━\u001b[0m \u001b[32m273.0/273.0 kB\u001b[0m \u001b[31m19.4 MB/s\u001b[0m eta \u001b[36m0:00:00\u001b[0m\n",
            "\u001b[?25hCollecting langchain-text-splitters<0.1,>=0.0.1 (from langchain)\n",
            "  Downloading langchain_text_splitters-0.0.1-py3-none-any.whl (21 kB)\n",
            "Collecting langsmith<0.2.0,>=0.1.17 (from langchain)\n",
            "  Downloading langsmith-0.1.34-py3-none-any.whl (86 kB)\n",
            "\u001b[2K     \u001b[90m━━━━━━━━━━━━━━━━━━━━━━━━━━━━━━━━━━━━━━━━\u001b[0m \u001b[32m86.7/86.7 kB\u001b[0m \u001b[31m5.8 MB/s\u001b[0m eta \u001b[36m0:00:00\u001b[0m\n",
            "\u001b[?25hRequirement already satisfied: numpy<2,>=1 in /usr/local/lib/python3.10/dist-packages (from langchain) (1.25.2)\n",
            "Requirement already satisfied: pydantic<3,>=1 in /usr/local/lib/python3.10/dist-packages (from langchain) (2.6.4)\n",
            "Requirement already satisfied: requests<3,>=2 in /usr/local/lib/python3.10/dist-packages (from langchain) (2.31.0)\n",
            "Requirement already satisfied: tenacity<9.0.0,>=8.1.0 in /usr/local/lib/python3.10/dist-packages (from langchain) (8.2.3)\n",
            "Requirement already satisfied: aiosignal>=1.1.2 in /usr/local/lib/python3.10/dist-packages (from aiohttp<4.0.0,>=3.8.3->langchain) (1.3.1)\n",
            "Requirement already satisfied: attrs>=17.3.0 in /usr/local/lib/python3.10/dist-packages (from aiohttp<4.0.0,>=3.8.3->langchain) (23.2.0)\n",
            "Requirement already satisfied: frozenlist>=1.1.1 in /usr/local/lib/python3.10/dist-packages (from aiohttp<4.0.0,>=3.8.3->langchain) (1.4.1)\n",
            "Requirement already satisfied: multidict<7.0,>=4.5 in /usr/local/lib/python3.10/dist-packages (from aiohttp<4.0.0,>=3.8.3->langchain) (6.0.5)\n",
            "Requirement already satisfied: yarl<2.0,>=1.0 in /usr/local/lib/python3.10/dist-packages (from aiohttp<4.0.0,>=3.8.3->langchain) (1.9.4)\n",
            "Collecting marshmallow<4.0.0,>=3.18.0 (from dataclasses-json<0.7,>=0.5.7->langchain)\n",
            "  Downloading marshmallow-3.21.1-py3-none-any.whl (49 kB)\n",
            "\u001b[2K     \u001b[90m━━━━━━━━━━━━━━━━━━━━━━━━━━━━━━━━━━━━━━━━\u001b[0m \u001b[32m49.4/49.4 kB\u001b[0m \u001b[31m3.6 MB/s\u001b[0m eta \u001b[36m0:00:00\u001b[0m\n",
            "\u001b[?25hCollecting typing-inspect<1,>=0.4.0 (from dataclasses-json<0.7,>=0.5.7->langchain)\n",
            "  Downloading typing_inspect-0.9.0-py3-none-any.whl (8.8 kB)\n",
            "Collecting jsonpointer>=1.9 (from jsonpatch<2.0,>=1.33->langchain)\n",
            "  Downloading jsonpointer-2.4-py2.py3-none-any.whl (7.8 kB)\n",
            "Collecting packaging<24.0,>=23.2 (from langchain-core<0.2.0,>=0.1.33->langchain)\n",
            "  Downloading packaging-23.2-py3-none-any.whl (53 kB)\n",
            "\u001b[2K     \u001b[90m━━━━━━━━━━━━━━━━━━━━━━━━━━━━━━━━━━━━━━━━\u001b[0m \u001b[32m53.0/53.0 kB\u001b[0m \u001b[31m3.5 MB/s\u001b[0m eta \u001b[36m0:00:00\u001b[0m\n",
            "\u001b[?25hCollecting orjson<4.0.0,>=3.9.14 (from langsmith<0.2.0,>=0.1.17->langchain)\n",
            "  Downloading orjson-3.9.15-cp310-cp310-manylinux_2_17_x86_64.manylinux2014_x86_64.whl (138 kB)\n",
            "\u001b[2K     \u001b[90m━━━━━━━━━━━━━━━━━━━━━━━━━━━━━━━━━━━━━━━━\u001b[0m \u001b[32m138.5/138.5 kB\u001b[0m \u001b[31m3.8 MB/s\u001b[0m eta \u001b[36m0:00:00\u001b[0m\n",
            "\u001b[?25hRequirement already satisfied: annotated-types>=0.4.0 in /usr/local/lib/python3.10/dist-packages (from pydantic<3,>=1->langchain) (0.6.0)\n",
            "Requirement already satisfied: pydantic-core==2.16.3 in /usr/local/lib/python3.10/dist-packages (from pydantic<3,>=1->langchain) (2.16.3)\n",
            "Requirement already satisfied: typing-extensions>=4.6.1 in /usr/local/lib/python3.10/dist-packages (from pydantic<3,>=1->langchain) (4.10.0)\n",
            "Requirement already satisfied: charset-normalizer<4,>=2 in /usr/local/lib/python3.10/dist-packages (from requests<3,>=2->langchain) (3.3.2)\n",
            "Requirement already satisfied: idna<4,>=2.5 in /usr/local/lib/python3.10/dist-packages (from requests<3,>=2->langchain) (3.6)\n",
            "Requirement already satisfied: urllib3<3,>=1.21.1 in /usr/local/lib/python3.10/dist-packages (from requests<3,>=2->langchain) (2.0.7)\n",
            "Requirement already satisfied: certifi>=2017.4.17 in /usr/local/lib/python3.10/dist-packages (from requests<3,>=2->langchain) (2024.2.2)\n",
            "Requirement already satisfied: greenlet!=0.4.17 in /usr/local/lib/python3.10/dist-packages (from SQLAlchemy<3,>=1.4->langchain) (3.0.3)\n",
            "Collecting mypy-extensions>=0.3.0 (from typing-inspect<1,>=0.4.0->dataclasses-json<0.7,>=0.5.7->langchain)\n",
            "  Downloading mypy_extensions-1.0.0-py3-none-any.whl (4.7 kB)\n",
            "Installing collected packages: packaging, orjson, mypy-extensions, jsonpointer, typing-inspect, marshmallow, jsonpatch, langsmith, dataclasses-json, langchain-core, langchain-text-splitters, langchain-community, langchain\n",
            "  Attempting uninstall: packaging\n",
            "    Found existing installation: packaging 24.0\n",
            "    Uninstalling packaging-24.0:\n",
            "      Successfully uninstalled packaging-24.0\n",
            "Successfully installed dataclasses-json-0.6.4 jsonpatch-1.33 jsonpointer-2.4 langchain-0.1.13 langchain-community-0.0.29 langchain-core-0.1.35 langchain-text-splitters-0.0.1 langsmith-0.1.34 marshmallow-3.21.1 mypy-extensions-1.0.0 orjson-3.9.15 packaging-23.2 typing-inspect-0.9.0\n",
            "Collecting openai\n",
            "  Downloading openai-1.14.3-py3-none-any.whl (262 kB)\n",
            "\u001b[2K     \u001b[90m━━━━━━━━━━━━━━━━━━━━━━━━━━━━━━━━━━━━━━━━\u001b[0m \u001b[32m262.9/262.9 kB\u001b[0m \u001b[31m2.4 MB/s\u001b[0m eta \u001b[36m0:00:00\u001b[0m\n",
            "\u001b[?25hRequirement already satisfied: anyio<5,>=3.5.0 in /usr/local/lib/python3.10/dist-packages (from openai) (3.7.1)\n",
            "Requirement already satisfied: distro<2,>=1.7.0 in /usr/lib/python3/dist-packages (from openai) (1.7.0)\n",
            "Collecting httpx<1,>=0.23.0 (from openai)\n",
            "  Downloading httpx-0.27.0-py3-none-any.whl (75 kB)\n",
            "\u001b[2K     \u001b[90m━━━━━━━━━━━━━━━━━━━━━━━━━━━━━━━━━━━━━━━━\u001b[0m \u001b[32m75.6/75.6 kB\u001b[0m \u001b[31m6.7 MB/s\u001b[0m eta \u001b[36m0:00:00\u001b[0m\n",
            "\u001b[?25hRequirement already satisfied: pydantic<3,>=1.9.0 in /usr/local/lib/python3.10/dist-packages (from openai) (2.6.4)\n",
            "Requirement already satisfied: sniffio in /usr/local/lib/python3.10/dist-packages (from openai) (1.3.1)\n",
            "Requirement already satisfied: tqdm>4 in /usr/local/lib/python3.10/dist-packages (from openai) (4.66.2)\n",
            "Requirement already satisfied: typing-extensions<5,>=4.7 in /usr/local/lib/python3.10/dist-packages (from openai) (4.10.0)\n",
            "Requirement already satisfied: idna>=2.8 in /usr/local/lib/python3.10/dist-packages (from anyio<5,>=3.5.0->openai) (3.6)\n",
            "Requirement already satisfied: exceptiongroup in /usr/local/lib/python3.10/dist-packages (from anyio<5,>=3.5.0->openai) (1.2.0)\n",
            "Requirement already satisfied: certifi in /usr/local/lib/python3.10/dist-packages (from httpx<1,>=0.23.0->openai) (2024.2.2)\n",
            "Collecting httpcore==1.* (from httpx<1,>=0.23.0->openai)\n",
            "  Downloading httpcore-1.0.5-py3-none-any.whl (77 kB)\n",
            "\u001b[2K     \u001b[90m━━━━━━━━━━━━━━━━━━━━━━━━━━━━━━━━━━━━━━━━\u001b[0m \u001b[32m77.9/77.9 kB\u001b[0m \u001b[31m5.2 MB/s\u001b[0m eta \u001b[36m0:00:00\u001b[0m\n",
            "\u001b[?25hCollecting h11<0.15,>=0.13 (from httpcore==1.*->httpx<1,>=0.23.0->openai)\n",
            "  Downloading h11-0.14.0-py3-none-any.whl (58 kB)\n",
            "\u001b[2K     \u001b[90m━━━━━━━━━━━━━━━━━━━━━━━━━━━━━━━━━━━━━━━━\u001b[0m \u001b[32m58.3/58.3 kB\u001b[0m \u001b[31m5.9 MB/s\u001b[0m eta \u001b[36m0:00:00\u001b[0m\n",
            "\u001b[?25hRequirement already satisfied: annotated-types>=0.4.0 in /usr/local/lib/python3.10/dist-packages (from pydantic<3,>=1.9.0->openai) (0.6.0)\n",
            "Requirement already satisfied: pydantic-core==2.16.3 in /usr/local/lib/python3.10/dist-packages (from pydantic<3,>=1.9.0->openai) (2.16.3)\n",
            "Installing collected packages: h11, httpcore, httpx, openai\n",
            "Successfully installed h11-0.14.0 httpcore-1.0.5 httpx-0.27.0 openai-1.14.3\n",
            "Collecting PyPDF2\n",
            "  Downloading pypdf2-3.0.1-py3-none-any.whl (232 kB)\n",
            "\u001b[2K     \u001b[90m━━━━━━━━━━━━━━━━━━━━━━━━━━━━━━━━━━━━━━━━\u001b[0m \u001b[32m232.6/232.6 kB\u001b[0m \u001b[31m2.4 MB/s\u001b[0m eta \u001b[36m0:00:00\u001b[0m\n",
            "\u001b[?25hInstalling collected packages: PyPDF2\n",
            "Successfully installed PyPDF2-3.0.1\n",
            "Collecting faiss-cpu\n",
            "  Downloading faiss_cpu-1.8.0-cp310-cp310-manylinux_2_17_x86_64.manylinux2014_x86_64.whl (27.0 MB)\n",
            "\u001b[2K     \u001b[90m━━━━━━━━━━━━━━━━━━━━━━━━━━━━━━━━━━━━━━━━\u001b[0m \u001b[32m27.0/27.0 MB\u001b[0m \u001b[31m17.3 MB/s\u001b[0m eta \u001b[36m0:00:00\u001b[0m\n",
            "\u001b[?25hRequirement already satisfied: numpy in /usr/local/lib/python3.10/dist-packages (from faiss-cpu) (1.25.2)\n",
            "Installing collected packages: faiss-cpu\n",
            "Successfully installed faiss-cpu-1.8.0\n",
            "Collecting tiktoken\n",
            "  Downloading tiktoken-0.6.0-cp310-cp310-manylinux_2_17_x86_64.manylinux2014_x86_64.whl (1.8 MB)\n",
            "\u001b[2K     \u001b[90m━━━━━━━━━━━━━━━━━━━━━━━━━━━━━━━━━━━━━━━━\u001b[0m \u001b[32m1.8/1.8 MB\u001b[0m \u001b[31m7.1 MB/s\u001b[0m eta \u001b[36m0:00:00\u001b[0m\n",
            "\u001b[?25hRequirement already satisfied: regex>=2022.1.18 in /usr/local/lib/python3.10/dist-packages (from tiktoken) (2023.12.25)\n",
            "Requirement already satisfied: requests>=2.26.0 in /usr/local/lib/python3.10/dist-packages (from tiktoken) (2.31.0)\n",
            "Requirement already satisfied: charset-normalizer<4,>=2 in /usr/local/lib/python3.10/dist-packages (from requests>=2.26.0->tiktoken) (3.3.2)\n",
            "Requirement already satisfied: idna<4,>=2.5 in /usr/local/lib/python3.10/dist-packages (from requests>=2.26.0->tiktoken) (3.6)\n",
            "Requirement already satisfied: urllib3<3,>=1.21.1 in /usr/local/lib/python3.10/dist-packages (from requests>=2.26.0->tiktoken) (2.0.7)\n",
            "Requirement already satisfied: certifi>=2017.4.17 in /usr/local/lib/python3.10/dist-packages (from requests>=2.26.0->tiktoken) (2024.2.2)\n",
            "Installing collected packages: tiktoken\n",
            "Successfully installed tiktoken-0.6.0\n"
          ]
        }
      ],
      "source": [
        "!pip install langchain\n",
        "!pip install openai\n",
        "!pip install PyPDF2\n",
        "!pip install faiss-cpu\n",
        "!pip install tiktoken"
      ]
    },
    {
      "cell_type": "code",
      "source": [
        "from PyPDF2 import PdfReader\n",
        "from langchain.embeddings.openai import OpenAIEmbeddings\n",
        "from langchain.text_splitter import CharacterTextSplitter\n",
        "from langchain.vectorstores import FAISS"
      ],
      "metadata": {
        "id": "Gcr4ff4AfZhJ"
      },
      "execution_count": 2,
      "outputs": []
    },
    {
      "cell_type": "code",
      "source": [
        "import os\n",
        "os.environ[\"OPENAI_API_KEY\"] = \"\""
      ],
      "metadata": {
        "id": "IOoSVtIqgE9w"
      },
      "execution_count": 12,
      "outputs": []
    },
    {
      "cell_type": "code",
      "source": [
        "pdfreader = PdfReader('/content/1.12 Eyewitness Identification 2017.pdf')"
      ],
      "metadata": {
        "id": "zI4fdxdIg7GB"
      },
      "execution_count": 13,
      "outputs": []
    },
    {
      "cell_type": "code",
      "source": [
        "from typing_extensions import Concatenate\n",
        "raw_text = ''\n",
        "for i, page in enumerate(pdfreader.pages):\n",
        "    content = page.extract_text()\n",
        "    if content:\n",
        "        raw_text += content"
      ],
      "metadata": {
        "id": "irgrnSashBxZ"
      },
      "execution_count": 14,
      "outputs": []
    },
    {
      "cell_type": "code",
      "source": [
        "raw_text"
      ],
      "metadata": {
        "colab": {
          "base_uri": "https://localhost:8080/",
          "height": 191
        },
        "id": "xl1M5lxEhDpH",
        "outputId": "b5ff6e57-3f14-487c-9940-52cd49a647bb"
      },
      "execution_count": 15,
      "outputs": [
        {
          "output_type": "execute_result",
          "data": {
            "text/plain": [
              "\"  \\nNORWOOD  POLICE DEPARTMENT  1 (May 26th 2017 ) \\n  EYEWITNESS IDENTIF ICATION  \\nPOLICY & PROCEDURE NO.  \\n1.12  \\nISSUE  \\nDATE: 11/21/13  \\n \\nEFFECTIVE  \\nDATE: 11/21/13  \\nMASSACHUSETTS POLICE \\nACCREDITATION STANDARDS  \\nREFERENCED:  1.2.3, 42.2.3(e)   \\nREVISION  \\nDATE: 05/26/17  \\nGENERAL CONSIDERATIONS  \\n \\nEyewitness identifi cation  procedures  must be conducted in a fair, objective, and non -\\nsuggestive manner.  When identification procedures conducted by the police are \\nunnecessarily suggestive, and conducive to irreparable mistaken identification, it is a \\nviolation of due proces s that may result in a wrongful conviction , or the exclusion of \\nevidence .1  Therefore, the identification of criminal offenders must be approached with \\nextreme caution  to ensure the proper administration of justice, and to prevent the court \\nfrom excluding  or limit ing eyewitness evidence if it determines that police methods were \\nunnecessarily suggestive.   \\n \\nThe identification of a suspect by an eyewitness can be compelling ev idence. However, \\nmany people  that have been convicted of serious crimes based  on mis taken eyewitness \\nidentification  have later been exonerated by scientific evidence.  Eyewitness \\nmisidentification is the single greatest cause of wrongful convictions nationwide, playing \\na role in approximately  75% of  all convictions overturned through DNA testing.2  The \\nNorwood  Police Department recognizes that  it is as much the responsibility of the police \\nto protect the innocent from misiden tification, as it is to assist in  the conviction of the \\nguilty.   \\n \\nDEFINITIONS : \\n \\nSuspect:  A person who officers bel ieve may have committed a crime.  \\n \\nOffender: The perpetrator of the crime.   \\n POLICY 1.12   EYEWITNESS IDENTI FICATION  \\n \\nNORWOOD POLICE DEPARTMENT  2 (May 26th 2017 ) \\n   Filler:  A person, or a photograph of a person, that is included in a line -up or photo array, \\nbut who is not a suspect.  \\n \\nShow -up: The live presentation of a  suspect t o an eyewitness shortly after the \\ncommission of a crime.  \\n \\nField View:  An eyewitness viewing of a group of people in a public place based on the \\ntheory that the offender may be among the group.  A field view differs from a show -up in \\nthat it may be conducte d well after the commission of the crime, and may be conducted \\nwith or without a suspect in the group.  \\n \\nPhoto Array : A group of photographs shown to an eyewitness for the purpose of \\nidentifying an offender.  \\n \\nLine-up: The live  presentation of a group of people to an eyewitness for the purpose of \\nidentifying an offender.  A line -up differs from a field view in that it is conducted in a \\ncontrolled setting, such as a police station, a known suspect is present, and the \\nparticipants  are aware that an identification procedure is being conducted . \\n \\nVoice Line -up: A procedure whereby  a witness is permitted to hear the voices of several \\npeople for the purpose of obtaining an identification of the offender’s voice . \\n \\nBlind Administration : A procedure whereby the officer showing a photo array or \\nconducting a line -up cannot tell when the witness is viewing the suspect.  \\n \\nPOLICY : \\n \\nIt is the policy of the Norwood Police  Department that:  \\n \\n1. An officer may show a single photograph of a suspect to a witness for the \\npurpose of confirming the suspect’s identity in a case where the suspect and \\nwitness know each other.  \\n \\n2. Eyewitnesses will be given specific instructions  prior to being shown a suspect.  \\n \\n3. Photo arrays and line -ups will be conducted by displayi ng the suspect and fillers \\nsequential ly. \\n \\n4. Photos arrays, line -ups, and voice identifications will be condu cted using blind \\nadministration.   \\n \\n5. When an eyewitness identifies a suspect , the officer will immediately ask the \\nwitness how certain he or she is of t he identification.  \\n \\n6. The Department will avoid multiple identification procedures featuring any one \\nsuspect with the same witness . \\n \\n7. The Department does not use  composites , and the use of  artist sketches is only \\npermitted under strict guidelines . \\n POLICY 1.12   EYEWITNESS IDENTI FICATION  \\n \\nNORWOOD POLICE DEPARTMENT  3 (May 26th 2017 ) \\n   8. If an eyew itness identifies a suspect, officers will attempt to gather additional \\nevidence to confirm o r dispel the identification.  \\n \\n9. The Department will provide training in eyewitness identification to all sworn \\npersonnel.  \\n \\nPROCEDURES : \\n \\n1. When questioning an eyewitnes s, officers should avoid the use of leading \\nquestions and should refrain from providing the witness with information that \\ncould affect the witness’s memory.  \\n \\n2. Prior to conducting an identification procedure, officers should obtain  and \\ndocument a full descri ption of the offender  from the witness .  Officers should not \\ntake an offender ’s description from one eyewitness in the presence of another  \\nwitness.  [42.2.11 c]  \\n \\n3. Whenever practicable, the officer  should videotape or audiotape a photo array or \\nline-up.  If not, the officer should write down the witness’ exact words and \\nincorporate them into his report.  The witness should be asked to initial and date \\nthe front of any photograph selected.  [42.2.11  b] \\n \\n4. A report of  every  identification procedure, whether an iden tification is made or \\nnot, shall be submitted.  The report shall include a summary of the procedure, the \\npersons who were present for it, instructions given to the witness by the officer \\n(this should be accomplished by submitting the appropriate witness in struction \\nform), any statement or reaction by the witness, and any comments made by the \\nwitness regarding the identification procedure.  When submitting reports about \\nphoto arrays, officers should include a copy of the array.  \\n \\n5. A suspect should be viewed by  one witness at a time and out of the presence or \\nhearing of other witnesses.  Witnesses who have viewed the suspect should not \\nbe permitted to communicate with those who have not until the identification \\nprocedure is completed. [42.2.11]  \\nRight to Counsel During Identification Procedure  \\n \\n1. Once a suspect has been arraigned or indicted, his right to have counsel present \\nat an in -person identification procedure attaches.  Suspects have no right to the \\npresence of counsel simply because a complaint has been file d, even if an arrest \\nwarrant has issued.  \\n \\n2. No right to counsel attaches for non -corporeal identification procedures, such as \\nthose involving photographs, whether conducted before or after the initiation of \\nadversarial criminal proceedings.  \\nWitness Instructi ons \\n POLICY 1.12   EYEWITNESS IDENTI FICATION  \\n \\nNORWOOD POLICE DEPARTMENT  4 (May 26th 2017 ) \\n   Whenever practicable, an officer conducting an identification procedure shall  read the \\nwitness a set of instructions from a departmental form (show -up card, or photo array or \\nline-up instruction form).  Those instructions include the following:  [42.2 .12 d]  \\n \\n1. The person who committed the crime may or may not be (the person, or in the \\nset of pho tographs) you are about to view.  \\n \\n2. It is just as important to clear innocent persons from suspicion as to identify the \\nguilty.  \\n \\n3. The individuals you view may not ap pear exactly as they did on the date of the \\nincident because features such as head and facial hair are subject to change. \\n(Not for use during show -ups or voice identifications.)  \\n \\n4. Regardless of whether or not you select someone, the police department will \\ncontinue to investigate the incident.  \\n \\n5. The procedure requires the officer to ask you to state, in your own words and \\nwithout using a numerical scale, how certain you are of any identification.  \\n \\n6. If you do select someone, please do not ask the officer questio ns about the \\nperson you have selected, as no information can be shared with you at this stage \\nof the investigation.  \\n \\n7. Regardless of whether you select a person, please do not discuss the procedure \\nwith any other witnesses in the case.  \\nShow -ups \\n \\n1. Detaining a suspect who fits the description of a n offender in order to arrange a \\nshow -up is lawful where the officer has reasonable suspicion that the suspect \\nhas committed a crime, even if probable cause to arrest has not yet developed.  \\n[42.2.12 a]  \\n \\n2. A show-up shoul d not be conducted more than two hours after the witness’s \\nobservation of the offender. Show -ups should be conducted live whenever \\npossible and not photographically.  Officers should not attempt to obtain \\nidentifications using RMV photos on the  computers i n their  cruiser s, unless a dire \\nemergency exists.  [42.2.12 a]  \\n \\n3. When a show -up is arranged in an emergency situation, where either a witness \\nor a victim is in imminent danger of death or in critical condition in a hospital, for \\nexample, and the circumstance s are such that an immediate confrontation is \\nimperative, the emergency identification procedure shall be conducted in a non -\\nsuggestive manner.  [42.2.12 a]  \\n \\n4. Every show -up must be as fair and non -suggestive as possible.3  Specifically, if \\nthe suspect is han dcuffed, he should be positioned so that the handcuffs are not \\nvisible to the witness. Show -ups should not be conducted if the suspect is seated \\nin the rear of a police cruiser, in a cell, or in any other enclosure associated with \\ncustody.  POLICY 1.12   EYEWITNESS IDENTI FICATION  \\n \\nNORWOOD POLICE DEPARTMENT  5 (May 26th 2017 ) \\n    \\n5. If the witness (es) fail(s) to make a positive identification , and sufficient other \\nevidence has not developed to provide probable cause to make an arrest, the \\nsuspect must be permitted to leave.  His identity should be recorded and \\nincluded in the officer’s report.  \\n \\n6. A suspect stopped within a short time af ter the commission of the crime  may be \\ntaken to a location where he can be viewed by a witness for possible \\nidentification , or be detained at the site of the stop and the witness taken there to \\nview him.  Transporting th e witness to the site of the stop is preferred if \\ncircumstances permit.  [42.2.12 b]  \\n \\n7. Suspects should not be brought into a crime scene as contamination may result.  \\nFor the same reason, clothing articles found at the crime scene should not be \\nplaced on or in contact with a suspect.  A suspect should not be brought back to \\nthe home of a victim or witness unless that was the scene of the crime.  \\n \\n8. Police officers must not do or say anything that may convey to the witnesses that \\nthey have evidence of the suspect ’s guilt.  Officers should turn down their radios \\nto reduce the likelihood  that the witness they are transporting may overhear  \\ninformation about the stop of the suspect.  \\n \\n9. The suspect should be viewed by one witness at a time and out of the presence \\nor hear ing of other witnesses.  Witnesses who have viewed the suspect should \\nnot be permitted to communicate with those who have not  until the identification \\nprocedure is completed . [42.2.12 b]  \\n \\n10. Once a witness has positively identified the suspect at a show -up, officers  should \\nnot conduct additional show -ups with the same suspect. Subsequent  \\nidentifications may be attempted by means of a photo array or line -up. \\n \\n11. Officers may transport victims or witnesses in police vehicles to cruise the area \\nwhere a crime has jus t occurred in order for them to attempt to point out the \\noffender .  While checking the area, officers must be careful not to make any \\nstatements or comments to the witnesses which could be considered suggestive.  \\n[42.2.12 b]  \\n \\n12. Officers should make written no tes of any identifications and any statements \\nmade by witnesses at the time of confrontation with the suspect.  Once a witness \\nhas indicated his opinion that the suspect is the offender , the officer should ask \\nthe witness how certain he is of the identific ation.  Officers should ask the \\nwitness not to use a numerical scale, but rather to indicate certainty in his own \\nwords.  All statements by the witnesses should be incorporated into the officers’ \\nreport.  \\nPreparing a Photo Array  \\n \\n1. When assembling a photo arr ay, officers should endeavor to use  a current and \\naccurate photograph of the suspect. They should select filler  photographs  based \\non their similarity to the witness's description of the offender, not to the POLICY 1.12   EYEWITNESS IDENTI FICATION  \\n \\nNORWOOD POLICE DEPARTMENT  6 (May 26th 2017 ) \\n   appearance of the suspect. Nothing about the susp ect or his photo should make \\nhim stand out.  \\n \\n2. An array should  contain seven fillers , but in no event fewer than five,  and only \\none suspect photograph4. All photographs should be of the same general size \\nand basic composition.  Officers must not repeat fille rs with the same witness \\nfrom one array to next and should m ark the back of each photo with numbers \\none through eight.   None of the photos may  bear markings indicating previous \\narrests.  \\n \\n3. If the suspect has a unique or unusual feature , such as facial scars or severe \\ninjuries , the officer preparing the array should c reate a consistent appearance \\nbetween the sus pect and fillers  by adding  the feature to the fillers or by covering \\nthe area on every photograph.  \\n \\n4. Once the array has been assembled,  the officer shou ld examine it to ensure that \\nnothing about the suspect’s photo makes him unduly stand out.  \\n \\nShowing a Photo Array  \\n \\n1. The showing of a photo array  must be conducted in a manner that promotes \\nreliability, fairness and objectivity.  \\n \\n2. Whenever practicable, office rs should videotape or audiotape the showing of a \\nphoto array.  \\n \\n3. Each witness must  view the photographs independently  and out of the presence \\nand hearing of the other witnesses.  [42.2.11 c]  \\n \\n4. Officers must avoid  suggestive statements that may influence the judgment or \\nperception of the witness.  \\n \\n5. A second officer  who is unaware of which photograph depicts the suspect , known \\nas a blind administrator, should actually show the photographs  to the witness .  \\nThis technique, called double -blind administration, is in tended to ensure that the \\nwitness does not interpret a gesture or facial expression by the officer as an \\nindication as to the identity of the suspect.  It also allows the prosecution to \\ndemonstrate to the judge or jury that it was impossible for the office r showing the \\nphotographs to indicate to the witness, intentionally or unintentionally, which \\nphotograph he should select.  \\n \\n6. If it is not practicable to use double -blind administration, a blinded technique such \\nas the folder shuffle should be used.  In all cases, officers shall employ \\ntechniques that ensure that no officer present for the showing of an array can tell \\nwhen the witness is view ing a photograph of the suspect.  \\n \\n7. The investigating officer or the second officer (the administrator) should carefully \\ninstruct the witness by reading from a departmental Photo Array Instruction \\nForm, and the witness should be asked to sign the form indicating that he \\nunderstands the instructions.  The investigating officer and the administrator \\nshould also sign and date t he form.   POLICY 1.12   EYEWITNESS IDENTI FICATION  \\n \\nNORWOOD POLICE DEPARTMENT  7 (May 26th 2017 ) \\n    \\n8. When the double -blind technique is used , the officers should explain to the \\nwitness that the officer showing the array does not know the identity of t he \\npeople in the photographs.   \\n \\n9. The officer shall show the photographs to the witness one at a time and ask the \\nwitness whether or not he recognizes the person.  \\n \\n10. When the witness signals for the next photograph, the officer should move the \\nfirst photograph so that it is out of sight and ask the witness whether he \\nrecognizes the next photograph.   The procedure should be repeated until the \\nwitness has viewed each photograph.   \\n \\n11. If the witness identifies a photograph , the officer should ask the witness how \\ncertain he is of the identification.  Officers should ask the witness not to use a \\nnumerical sca le, but rather his own words.   \\n \\n12. If the witness identifies a photograph  before all the photographs have been \\nviewed, the officer should remind the witness that he is required to show the rest \\nof the photographs.  \\n \\n13. Witnesses who ask to see a photo or line -up participant a second time should be \\nshown the entire array or lineup . Array or lineups shall not be shown more than \\ntwo times.    \\n \\n14. The photo array should be preserved as evidence in the same order  as when the \\nidentification was made.   \\n \\n15. If more than one wi tness is to view an array and a witness has already marked \\none of the photos, a separate unmarked array shall be used for each subsequent \\nwitness.  \\n \\n16. When an officer is showing a photographic array or lineup to a subsequent \\nwitness in the same investigation,  officers should shuffle the order to \\ndemonstrate  that there could be no collusion between the two witnesses.  \\nLine-ups \\n \\n1. Line-ups shall be conducted under the direction of a detective supervisor, or in \\nhis absence the Chief of Police , and when feasible, aft er consultation with the \\nDistrict Attorney 's Office.  \\n \\n2. A suspect cannot be detained and compelled to participate in a line -up without \\nprobable cause to arrest.5  If a suspect refuses to participate in a line -up, the \\nDistrict Attorney ’s Office  may be asked to apply for a court order to compel the \\nsuspect to cooperate.  \\n \\n3. Before any suspect who has been arraigned or indicted is shown to \\neyewitnesses in a line -up, or other live identification procedure, he must be \\ninformed of his right to have an attorney present at the line -up and of his right to \\nbe provided with an attorney without cost if he is unable to afford legal counsel.  POLICY 1.12   EYEWITNESS IDENTI FICATION  \\n \\nNORWOOD POLICE DEPARTMENT  8 (May 26th 2017 ) \\n   Unless a valid waiver is voluntarily and knowingly made, in writing if possible, no \\nsuch  identification may proceed without the presence of the suspect's attorney.6 \\n \\n4. Officers must s elect a group of at least five fillers who fit the description of the \\noffender  as provided by the witness(es).  Because the line-up will be \\nadministered by an offi cer who does not know the identity of the suspect, the \\nfillers selected should not be known to the officer administering the line -up.  In \\nselecting line -up fillers, abide by the guidelines for photo array fillers as described \\nabove. [42.2.11 a]  \\n \\n5. The suspec t should be viewed by one witness at a time and out of the presence \\nor hearing of other witnesses.  Witnesses who have viewed the suspect should \\nnot be permitted to communicate with those who have not until the identification \\nprocedure is completed. [42.2. 11 c] \\n \\n6. All persons in the line -up should carry cards that identify them only by number \\nand should be referred to only by their number.  As with photo arrays, each \\nwitness must view the line -up independently, out of the presence and hearing of \\nthe other wit nesses.  \\n \\n7. The investigating officer should explain to the witness that a second officer (the \\nline-up administrator) will be conducting the line -up, and that the administrator  \\ndoes not know the identity of the people participating . [42.2.11 d, f]   \\n \\n8. The inves tigating officer must  carefully instruct the witness by reading from a \\ndepartmental Line -up Instruction Form, and the witness should be asked to sign \\nthe form indicating that he understands the instructions.  The officer should also \\nsign and date the form.   [42.2.11 d, f]  \\n \\n9. The investigating officer must  leave the room while the line -up administrator \\nconducts the line -up. [42.2.11 d, f]  \\n \\n10. The line -up should be conducted so that the suspect and fillers do not actually \\nline up, but rather so that they are displ ayed to the witness one at a time.  This \\ncan be accomplished by having them enter the room individually and leave \\nbefore the next one enters.  \\n \\n11. The procedure for showing the participants to the witness and for obtaining a \\nstatement of certainty is the same as for photo arrays.  Whenever practicable, \\nthe police should videotape or audiotape a line -up. [42.2.11 e]  \\n \\n12. When an attorney for the suspect is present, the attorney should be permitted to \\nmake reasonable suggestions regarding the composition of the line -up and the \\nmanner in which it is to be conducted.  Any suggestions made by the suspect's \\nattorney , and any actions taken by the officer on those suggestions , should be \\nincluded as part of the line -up report.  \\n \\n13. Counsel representing the suspect should be affo rded sufficient time to confer \\nwith his client prior to the line -up.  Once the line -up has commenced, attorneys \\nshould functio n primarily as observers , and should not be permitted to converse \\nwith the line -up participants, or with the witnesses, while the line-up is underway.  POLICY 1.12   EYEWITNESS IDENTI FICATION  \\n \\nNORWOOD POLICE DEPARTMENT  9 (May 26th 2017 ) \\n   The concept of blind administration requires that no one be present who knows \\nthe identity of the suspect.  For this reason, the any attorney who knows the \\nsuspect should leave the room before the line -up begins.  An attorney who does  \\nnot know the suspect may attend the line -up on behalf of defense counsel  or the \\nassistant district attorney . \\n \\n14. The suspect's attorney is not legally entitled to the names or addresses of the \\nwitnesses attending a line -up if the suspect has not yet been arr aigned or \\nindicted.7  If the suspect’s  attorney insists on having information about line -up \\nwitnesses, they should be advise d to contact  the District Attorney 's Office.  \\n \\n15. During a line -up, each participant may be directed to wear cer tain clothing, to put \\non or take off certain clothing, to take certain positions , or to walk or move in a \\ncertain way.8  If officers ask the participants to wear an article of clothing, they \\nmust guard against circumstances where the article only fits the suspect.  All line -\\nup participants shall be asked to perform the same actions.   \\n \\n16. Line-up participants must not speak during the line -up.  If identification of the \\nsuspect’s voice is desired, a separate procedure must be conducted.  (See \\nsection on Voice Identification below.)  \\n \\n17. After a person has been arrested, he may be required to participate in a line -up \\nregarding the crime for which he was arrested.9  After arrest, a suspect may \\nlawfully refuse to participate in a line -up only if he has a right to have  counsel \\npresent (post arraignment/indictment) and counsel is absent through no fault of \\nthe suspect or his attorney.   \\nVoice Identification  \\n \\n1. Although considerably less common than visual identifications, voice \\nidentifications may be helpful to criminal in vestigations where the victim or \\nwitness was blind, the crime took place in the dark, the subject was masked, the \\nwitness’ s eyes were covered by the perpetrator, or they were never in the same \\nroom with the perpetrator but heard his voice.  If officers wis h to conduct a voice \\nidentification procedure with a witness who also saw the subject, they must first \\nconsult with a detective supervisor, or in his absence the Chief of Police and, \\nwhen feasible, the District Attorney 's Office.  \\n \\n2. As with any in -person identification or confrontation, if the suspect has been \\narraigned or indicted, he has a right to the presence of counsel at the voice \\nidentification procedure.  \\n \\n3. Where a voice identification is attempted, the following procedures shoul d be \\nemployed to the extent possible:10 \\n \\na. As in a line -up, there should be at least six persons whose voices will be \\nlistened to by the witness; one -on-one confrontations should be avoided. \\nBecause line -ups will be administered by an officer who does not kno w the \\nidentity of the suspect, the fillers should not be known to the offi cer \\nadministering the procedure ; \\n POLICY 1.12   EYEWITNESS IDENTI FICATION  \\n \\nNORWOOD POLICE DEPARTMENT  10 (May 26th 2017 ) \\n   b. The suspect and other participants shall not be visible to the witness; this can \\nbe done by using a partition, or by similar means;  \\n \\nc. All participant s, including the suspect, shall be instructed to speak the same \\nwords in the same order;  \\n \\nd. The words recited by the participants shall not be the ones spoken by the \\noffender during the crime; the line -up participants should speak neutral words \\nin a normal tone of voice;11 \\n \\ne. When both a visual and voice line -up are conducted, the witness should be \\ninformed that the line -up participants will be called in a different order and by \\ndifferent numbers;12 \\n \\nf. If there are two or more suspects of a particular crime, officers must  present \\neach suspect to witnesses in separate line -ups.  Different fillers should be \\nused to compose each line -up. \\n \\n4. As with any identification procedure, police officers should avoid any words or \\nactions that suggest to the voice witness that a po sitive identification is expected , \\nor who they expect the witness to identify.  \\n \\n5. The investigating officer should carefully instruct the witness by reading from a \\ndepartmental Voice Identification Line -up Instruction Form, and the witness \\nshould be asked to  sign the form indicating that he understands the instructions.  \\nThe officer should also sign and date the form.  Whenever  practicable, officer s \\nshould videotape or audiotape  the procedure.  \\n  \\n6. Officers must a dhere to the principles of blind administration a s described above.  \\nAs is the case with photo arrays and line -ups, the investigating officer must  leave \\nthe room while the administrator conducts the procedure.  \\nCourtroom Identification  \\n \\nPrior to conducting any courtroom identification procedure, officers should consult the \\nDistrict Attorney’s Office .  The same right to an attorney , and the same due process \\nconsiderations that apply to all other identification procedures also apply to courtroom \\nidentifications.  \\n \\nIf the suspect has be en arraigned or indicted, he has a right to have counsel present at \\nany in -person identification .  Live confrontations , and informal viewings of the suspect by \\nwitnesses , must be conducted in such a manner as to minimize any undue \\nsuggestiveness.  \\nSketches  and Composites  \\n \\nAn artist's sketch, computerized drawing, composite, or other depiction can sometimes \\naid an investigation, but are most effective when a witness has a good recollection of the \\noffender’s facial features.  However, research suggests  that b uilding a composite can \\nreduce  a witness’ s accuracy for  identifying the original face.13 POLICY 1.12   EYEWITNESS IDENTI FICATION  \\n \\nNORWOOD POLICE DEPARTMENT  11 (May 26th 2017 ) \\n    \\nFor these reasons, the Department does not employ composites in criminal \\ninvestigations and the use of sketches is severely restricted.  No officer may arrange for \\nan artist’s sketch except under the following circumstances:  \\n \\n1. Any sketch must be prepared by a trained artist;  \\n \\n2. A sketch may only be authorized by the Detective Sergeant, the Investigations \\nCommander or the Chief of Police;  \\n \\n3. A sketch may only be employed with  a witness who provides a clear descript ion \\nof specific facial features;  \\n \\n4. A sketch should not be attempted immediately prior to the show ing of a photo \\narray or line -up; \\n \\n5. Once the sketch has been completed, the witness should be asked to state in his \\nown wo rds how accurately it reflects how the su spect appeared during the crime;  \\n \\n6. The fact that a suspect resembles a sketch or composite is not, without more, \\nprobable cause to believe t hat the suspect is the offender; and  \\n \\n7. A report must be submitted regarding a ny sketch procedure.  \\n \\nMug Shots  \\n \\nOfficers will not show large numbers of random photographs to eyewitnesses.  If officers \\ndecide to show  photographs of people from a particular group who are suspected of \\ninvolvement in the offense, but where no specific su spect has emerged, the following \\nguidelines shall be followed:  \\n \\n1. Officers will e nsure there is  only one photograph of each individual;  \\n \\n2. Officers shall  not refer to the photographs as “mug shots”;  \\n \\n3. If photographs of various formats are used, officers will ensure that several of \\neach format are used;  \\n \\n4. The witness’s attention should not be drawn to  any particular photograph;  \\n \\n5. A report shall be filed following the procedure, regardless of whether \\nidentification  is made.  The report should describe the photograph s viewed by the \\nwitness(s).  \\n \\n6. Officers should be extremely cautious before charging a suspect  based on this \\ntype of identification alone.  \\n \\nInanimate Objects  \\n \\nOfficers who seek to have an eyewitness identify an inanimate object should adhere to \\nthe following  procedures:  POLICY 1.12   EYEWITNESS IDENTI FICATION  \\n \\nNORWOOD POLICE DEPARTMENT  12 (May 26th 2017 ) \\n    \\n \\n1. An identification of an inanimate object must be conducted in a nonsuggestive \\nmanner,14 and officers must not make  extraneous remarks or provid e information \\nto the witness about the circumstances surrounding the discovery of the object;  \\n \\n2. It is permissible to show a witness a single object or a photo of the object , so an \\narray of objects is not required ,15 but an officer might elect  to conduct an object \\nlineup to avoid an allegation of a suggestive procedure, especially if identification \\nof an object effectively identifies the defendant as the offender;  \\n \\n3. The officer should document the witness ’s complete  description of the object \\nbefore the object or a photograph of it is shown to the witness;16 \\n \\n4. The officer should tell the witness that object s will be shown , and that they  may \\nor may not be the object the witness described;  \\n \\n5. Where any identification is made, the officer should ask the witness to state, in \\nhis or her own words, how certain he or she is of the identification;  \\n \\n6. The officer should obt ain clarification from the witness as to whether the object is \\nthe actual object he or she saw, whether it simply looks like the object he or she  \\nsaw, or whether the witness is unsure ;  \\n \\n7. If a piece of clothing similar to that described by a witness is foun d in the area \\nwhere a suspect has been stopped, the article should not be placed on the \\nsuspect prior to a show -up.  Rather, a show -up should be conducted first, and \\nidentification of the clothing item afterwards; and  \\n \\n8. Whenever practicable, the officer  should videotape or audiotape the identification \\nof an inanimate object .  If not, the officer should write down the witness’ exact \\nwords and incorporate them into his report.  \\n \\n \\n                                       \\n1 Com. v. Ellis , 432 Mass. 746 (2000); Com. v. Odware, 429 Mass. 231, 2 35 (1999)  \\n \\n2 The Innocence Project (last visited Oct. 28, 2013)  \\n \\n3 Com. v. Storey , 391 N.E.2d 898, 378 Mass. 312 (1979)  \\n \\n4 Com. V. Watson , 915 N.E.2d 1052, 455 Mass. 246 (2009)  \\n \\n5 Com. v. Bumpus , 209 N.E.2d 167, 362 Mass. 672 (1972)  \\n \\n6 Com. v. Torres,  442 Mass. 554 (2004)  \\n \\n7 U.S. v. Wade, 388 U.S. 218 (1967)  \\n \\n8 Id. \\n \\n9 Id. POLICY 1.12   EYEWITNESS IDENTI FICATION  \\n \\nNORWOOD POLICE DEPARTMENT  13 (May 26th 2017 ) \\n                                                                                                                     \\n \\n10 Com. v. Marini , 378 N.E.2d 51, 375 Mass. 510 (1978)  \\n \\n11 Id. \\n \\n12 Com v. Demaria,  703 N.E.2d 1203, 46 Mass. App. Ct. 114 (1999)  \\n \\n13 Gary L. Wells, Steve D. Charman, Elizabeth A. Olson, Building Face Composite Can \\nHarm Lineup Identification Performance , Journal of Experimental Psychology (2005)  \\n \\n14 Commonwealth v. Simmons , 383 Mass. 46 (1981)  \\n \\n15 Commonwealth v. Bresilla , 470 Mass. 422, 427, 431 (2015)  \\n \\n16 Commonwealth v. Thomas , SJC -12055 (2017 ) \""
            ],
            "application/vnd.google.colaboratory.intrinsic+json": {
              "type": "string"
            }
          },
          "metadata": {},
          "execution_count": 15
        }
      ]
    },
    {
      "cell_type": "code",
      "source": [
        "text_splitter = CharacterTextSplitter(\n",
        "    separator = \"\\n\",\n",
        "    chunk_size = 800,\n",
        "    chunk_overlap  = 200,\n",
        "    length_function = len,\n",
        ")\n",
        "texts = text_splitter.split_text(raw_text)"
      ],
      "metadata": {
        "id": "bCiLZGrJhF-w"
      },
      "execution_count": 16,
      "outputs": []
    },
    {
      "cell_type": "code",
      "source": [
        "len(texts)"
      ],
      "metadata": {
        "colab": {
          "base_uri": "https://localhost:8080/"
        },
        "id": "IkDByModhIIH",
        "outputId": "84cf3f38-ee2d-471e-83ad-db6e5b6d1d22"
      },
      "execution_count": 17,
      "outputs": [
        {
          "output_type": "execute_result",
          "data": {
            "text/plain": [
              "53"
            ]
          },
          "metadata": {},
          "execution_count": 17
        }
      ]
    },
    {
      "cell_type": "code",
      "source": [
        "embeddings = OpenAIEmbeddings()"
      ],
      "metadata": {
        "id": "dXZkG7uJhKB4"
      },
      "execution_count": 18,
      "outputs": []
    },
    {
      "cell_type": "code",
      "source": [
        "document_search = FAISS.from_texts(texts, embeddings)"
      ],
      "metadata": {
        "id": "Rtlqb5wHhLxr"
      },
      "execution_count": 19,
      "outputs": []
    },
    {
      "cell_type": "code",
      "source": [
        "document_search"
      ],
      "metadata": {
        "colab": {
          "base_uri": "https://localhost:8080/"
        },
        "id": "xyLWE-XVhPzP",
        "outputId": "c322d61c-b1b7-4442-d190-36d1790915e5"
      },
      "execution_count": 20,
      "outputs": [
        {
          "output_type": "execute_result",
          "data": {
            "text/plain": [
              "<langchain_community.vectorstores.faiss.FAISS at 0x7ae2507e6800>"
            ]
          },
          "metadata": {},
          "execution_count": 20
        }
      ]
    },
    {
      "cell_type": "code",
      "source": [
        "from langchain.chains.question_answering import load_qa_chain\n",
        "from langchain.llms import OpenAI"
      ],
      "metadata": {
        "id": "31YU8u1Gi53T"
      },
      "execution_count": 21,
      "outputs": []
    },
    {
      "cell_type": "code",
      "source": [
        "chain = load_qa_chain(OpenAI(), chain_type=\"stuff\")"
      ],
      "metadata": {
        "colab": {
          "base_uri": "https://localhost:8080/"
        },
        "id": "Eunoj4jBi7ZS",
        "outputId": "696b581c-4367-459a-eba0-c32091f2da41"
      },
      "execution_count": 22,
      "outputs": [
        {
          "output_type": "stream",
          "name": "stderr",
          "text": [
            "/usr/local/lib/python3.10/dist-packages/langchain_core/_api/deprecation.py:117: LangChainDeprecationWarning: The class `langchain_community.llms.openai.OpenAI` was deprecated in langchain-community 0.0.10 and will be removed in 0.2.0. An updated version of the class exists in the langchain-openai package and should be used instead. To use it run `pip install -U langchain-openai` and import as `from langchain_openai import OpenAI`.\n",
            "  warn_deprecated(\n"
          ]
        }
      ]
    },
    {
      "cell_type": "code",
      "source": [
        "query = \"How long can I wait to conduct a show up?\"\n",
        "docs = document_search.similarity_search(query)\n",
        "chain.run(input_documents=docs, question=query)"
      ],
      "metadata": {
        "colab": {
          "base_uri": "https://localhost:8080/",
          "height": 90
        },
        "id": "DdtBdCI4i9F7",
        "outputId": "ea0d0b37-2002-4a71-f33d-02a24d211538"
      },
      "execution_count": 23,
      "outputs": [
        {
          "output_type": "stream",
          "name": "stderr",
          "text": [
            "/usr/local/lib/python3.10/dist-packages/langchain_core/_api/deprecation.py:117: LangChainDeprecationWarning: The function `run` was deprecated in LangChain 0.1.0 and will be removed in 0.2.0. Use invoke instead.\n",
            "  warn_deprecated(\n"
          ]
        },
        {
          "output_type": "execute_result",
          "data": {
            "text/plain": [
              "\" A show-up should not be conducted more than two hours after the witness's observation of the offender.\""
            ],
            "application/vnd.google.colaboratory.intrinsic+json": {
              "type": "string"
            }
          },
          "metadata": {},
          "execution_count": 23
        }
      ]
    },
    {
      "cell_type": "code",
      "source": [
        "query = \"How will mugshots be taken?\"\n",
        "docs = document_search.similarity_search(query)\n",
        "chain.run(input_documents=docs, question=query)"
      ],
      "metadata": {
        "colab": {
          "base_uri": "https://localhost:8080/",
          "height": 87
        },
        "id": "tXM9e18jjQRH",
        "outputId": "47789df8-4062-48b9-8dfc-41d3a8512a98"
      },
      "execution_count": 24,
      "outputs": [
        {
          "output_type": "execute_result",
          "data": {
            "text/plain": [
              "' Officers will only use one photograph of each individual and will not refer to the photographs as \"mug shots.\" They will also ensure that several formats of photographs are used and that the witness\\'s attention is not drawn to any particular photograph. A report must be filed and officers should be cautious before charging a suspect based on mugshots alone. '"
            ],
            "application/vnd.google.colaboratory.intrinsic+json": {
              "type": "string"
            }
          },
          "metadata": {},
          "execution_count": 24
        }
      ]
    },
    {
      "cell_type": "code",
      "source": [],
      "metadata": {
        "id": "R7Zbk2hKj4A4"
      },
      "execution_count": null,
      "outputs": []
    }
  ]
}